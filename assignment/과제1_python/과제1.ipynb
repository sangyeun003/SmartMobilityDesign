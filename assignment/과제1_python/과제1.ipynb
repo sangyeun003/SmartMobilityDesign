{
  "cells": [
    {
      "cell_type": "markdown",
      "metadata": {
        "id": "kuyc1c5ZJL1e"
      },
      "source": [
        "# 스마트모빌리티설계 과제1"
      ]
    },
    {
      "cell_type": "markdown",
      "metadata": {
        "id": "ZvQTRJt_zTQt"
      },
      "source": [
        "# 1번"
      ]
    },
    {
      "cell_type": "code",
      "execution_count": 1,
      "metadata": {
        "colab": {
          "base_uri": "https://localhost:8080/"
        },
        "id": "L4DyXm4vzQL9",
        "outputId": "00d3a806-a983-45c5-80d3-b8e2bc7408e1"
      },
      "outputs": [
        {
          "name": "stdout",
          "output_type": "stream",
          "text": [
            "입력=  [100  95  75  80  50  90]\n",
            "최고점과 최저점을 하나씩만 제외한 평균:  85.0\n",
            "입력=  [10 20]\n",
            "입력 점수 개수 부족\n"
          ]
        }
      ],
      "source": [
        "import numpy as np\n",
        "\n",
        "def calc_avg_ex_minmax(scores):\n",
        "    print(\"입력= \", np.array2string(scores, separator=' '))\n",
        "\n",
        "    try:\n",
        "        if len(scores) < 3:\n",
        "            raise ValueError\n",
        "\n",
        "        max_num = np.max(scores)\n",
        "        min_num = np.min(scores)\n",
        "\n",
        "        new_arr = np.array([n for n in scores if n != max_num and n != min_num])\n",
        "        print(\"최고점과 최저점을 하나씩만 제외한 평균: \", np.mean(new_arr))\n",
        "\n",
        "    except ValueError:\n",
        "        print(\"입력 점수 개수 부족\")\n",
        "\n",
        "calc_avg_ex_minmax(np.array([100, 95, 75, 80, 50, 90]))\n",
        "calc_avg_ex_minmax(np.array([10, 20]))"
      ]
    },
    {
      "cell_type": "markdown",
      "metadata": {
        "id": "h60iJEi63jc3"
      },
      "source": [
        "# 2번"
      ]
    },
    {
      "cell_type": "code",
      "execution_count": 2,
      "metadata": {
        "colab": {
          "base_uri": "https://localhost:8080/"
        },
        "id": "IHGmoK7q1HFw",
        "outputId": "3e221b27-5e5f-4f0a-d8f7-81f628c3f2c4"
      },
      "outputs": [
        {
          "name": "stdout",
          "output_type": "stream",
          "text": [
            "Press 'a' to accelerate, 'b' to brake, 'q' to quit: a\n",
            "Accelerating: New speed =  1\n",
            "Moving: New position =  1\n",
            "Press 'a' to accelerate, 'b' to brake, 'q' to quit: a\n",
            "Accelerating: New speed =  2\n",
            "Moving: New position =  3\n",
            "Press 'a' to accelerate, 'b' to brake, 'q' to quit: b\n",
            "Braking: New speed =  1\n",
            "Moving: New position =  4\n",
            "Press 'a' to accelerate, 'b' to brake, 'q' to quit: r\n",
            "Invalid input. Use a', 'b', or 'q'\n",
            "Moving: New position =  5\n",
            "Press 'a' to accelerate, 'b' to brake, 'q' to quit: q\n",
            "Exiting...\n"
          ]
        }
      ],
      "source": [
        "class Car:\n",
        "    def __init__(self):\n",
        "        self.speed = 0\n",
        "        self.position = 0\n",
        "\n",
        "    def accelerate(self, amount):\n",
        "        self.speed += amount\n",
        "\n",
        "    def brake(self, amount):\n",
        "        self.speed -= amount\n",
        "        if self.speed < 0:\n",
        "            self.speed = 0\n",
        "\n",
        "    def move(self):\n",
        "        self.position += self.speed\n",
        "\n",
        "car = Car()\n",
        "\n",
        "while True:\n",
        "    key = input(\"Press 'a' to accelerate, 'b' to brake, 'q' to quit: \")\n",
        "\n",
        "    if key == 'a':\n",
        "        car.accelerate(1)\n",
        "        print(\"Accelerating: New speed = \", car.speed)\n",
        "    elif key == 'b':\n",
        "        car.brake(1)\n",
        "        print(\"Braking: New speed = \", car.speed)\n",
        "    elif key == 'q':\n",
        "        print(\"Exiting...\")\n",
        "        break\n",
        "    else:\n",
        "        print(\"Invalid input. Use a', 'b', or 'q'\")\n",
        "\n",
        "    car.move()\n",
        "    print(\"Moving: New position = \", car.position)"
      ]
    },
    {
      "cell_type": "markdown",
      "metadata": {
        "id": "JYkh965l7BGb"
      },
      "source": [
        "# 3번"
      ]
    },
    {
      "cell_type": "code",
      "execution_count": 3,
      "metadata": {
        "colab": {
          "base_uri": "https://localhost:8080/",
          "height": 555
        },
        "id": "Ru5Dq1Rx1uNt",
        "outputId": "a3a7ac65-3c40-482f-b451-0e52087d35ca"
      },
      "outputs": [
        {
          "name": "stdout",
          "output_type": "stream",
          "text": [
            "Sensor data:  [8.40746788 0.74309545 1.64074789 1.80560111 3.10301844 2.90284163\n",
            " 5.79987049 9.97238086 8.92505473 2.78820234]\n",
            "Obstacle Detected!\n",
            "Sensor data:  [6.95683112 2.11835905 3.49143446 9.29842987 5.05536929 0.68243409\n",
            " 1.16607954 5.67065804 5.99921672 6.25863945]\n",
            "Obstacle Detected!\n",
            "Sensor data:  [8.75654401 7.54442276 0.18484443 8.58509181 3.47029957 8.83372546\n",
            " 9.91580414 3.52502267 5.3536419  7.68336944]\n",
            "Obstacle Detected!\n",
            "Sensor data:  [0.87550402 0.79732383 8.25452665 3.1379964  5.27896886 1.08983174\n",
            " 1.79512872 4.55793355 8.79176039 1.52202634]\n",
            "Obstacle Detected!\n",
            "Sensor data:  [7.35944911 6.36377292 9.35923568 9.78478362 7.70922167 2.29137425\n",
            " 5.20638175 6.79275806 6.96184697 1.12728412]\n",
            "No Obstacle\n",
            "Sensor data:  [2.93993959 0.48980624 6.40562202 5.54953946 9.0386627  1.80667769\n",
            " 3.96057707 0.16291199 7.74848379 4.30422205]\n",
            "Obstacle Detected!\n",
            "Sensor data:  [0.54089882 7.73045509 1.35731363 4.21113281 9.78242823 3.50278926\n",
            " 7.43722448 9.95487751 3.89312811 9.46944256]\n",
            "Obstacle Detected!\n"
          ]
        },
        {
          "ename": "KeyboardInterrupt",
          "evalue": "",
          "output_type": "error",
          "traceback": [
            "\u001b[0;31m---------------------------------------------------------------------------\u001b[0m",
            "\u001b[0;31mKeyboardInterrupt\u001b[0m                         Traceback (most recent call last)",
            "\u001b[0;32m<ipython-input-3-c8574c39150c>\u001b[0m in \u001b[0;36m<cell line: 0>\u001b[0;34m()\u001b[0m\n\u001b[1;32m     12\u001b[0m         \u001b[0mprint\u001b[0m\u001b[0;34m(\u001b[0m\u001b[0;34m\"No Obstacle\"\u001b[0m\u001b[0;34m)\u001b[0m\u001b[0;34m\u001b[0m\u001b[0;34m\u001b[0m\u001b[0m\n\u001b[1;32m     13\u001b[0m \u001b[0;34m\u001b[0m\u001b[0m\n\u001b[0;32m---> 14\u001b[0;31m     \u001b[0mtime\u001b[0m\u001b[0;34m.\u001b[0m\u001b[0msleep\u001b[0m\u001b[0;34m(\u001b[0m\u001b[0;36m1\u001b[0m\u001b[0;34m)\u001b[0m\u001b[0;34m\u001b[0m\u001b[0;34m\u001b[0m\u001b[0m\n\u001b[0m",
            "\u001b[0;31mKeyboardInterrupt\u001b[0m: "
          ]
        }
      ],
      "source": [
        "import numpy as np\n",
        "import time\n",
        "\n",
        "while True:\n",
        "    data = np.random.uniform(0, 10, 10)\n",
        "    print(\"Sensor data: \", np.array2string(data, separator=' '))\n",
        "\n",
        "    detected = np.any(data <= 1)\n",
        "    if detected:\n",
        "        print(\"Obstacle Detected!\")\n",
        "    else:\n",
        "        print(\"No Obstacle\")\n",
        "\n",
        "    time.sleep(1)"
      ]
    },
    {
      "cell_type": "markdown",
      "metadata": {
        "id": "ovNJSf2GAC0g"
      },
      "source": [
        "# 4번"
      ]
    },
    {
      "cell_type": "code",
      "execution_count": 4,
      "metadata": {
        "colab": {
          "base_uri": "https://localhost:8080/"
        },
        "id": "TeI7jjzd_BVi",
        "outputId": "33eb10b6-eb91-4f90-a32e-8298eceba5d4"
      },
      "outputs": [
        {
          "name": "stdout",
          "output_type": "stream",
          "text": [
            "Roll (radian): -2.8970, Roll (degree): -165.9862\n",
            "Pitch (radian): 2.5207, Pitch (degree): 144.4282\n",
            "Yaw (radian): 2.0812, Yaw (degree): 119.2434\n",
            "Execution time using arithmetic operation: 81.3007 usec\n",
            "\n",
            "Roll (radian): -2.8970, Roll (degree): -165.9862\n",
            "Pitch (radian): 2.5207, Pitch (degree): 144.4282\n",
            "Yaw (radian): 2.0812, Yaw (degree): 119.2434\n",
            "Execution time using np.degrees(): 60.3199 usec\n"
          ]
        }
      ],
      "source": [
        "import numpy as np\n",
        "import time\n",
        "\n",
        "def rad_to_degree_manual(rads):\n",
        "    return rads * 180 / np.pi\n",
        "\n",
        "def rad_to_degree_builtin(rads):\n",
        "    return np.degrees(rads)\n",
        "\n",
        "roll_pitch_yaw = np.random.uniform(-np.pi, np.pi, 3)\n",
        "\n",
        "start = time.time()\n",
        "new_roll_pitch_yaw = rad_to_degree_manual(roll_pitch_yaw)\n",
        "end = time.time()\n",
        "\n",
        "print(\"Roll (radian): %.4f, Roll (degree): %.4f\" % (roll_pitch_yaw[0], new_roll_pitch_yaw[0]))\n",
        "print(\"Pitch (radian): %.4f, Pitch (degree): %.4f\" % (roll_pitch_yaw[1], new_roll_pitch_yaw[1]))\n",
        "print(\"Yaw (radian): %.4f, Yaw (degree): %.4f\" % (roll_pitch_yaw[2], new_roll_pitch_yaw[2]))\n",
        "print(\"Execution time using arithmetic operation: %.4f usec\" % ((end - start) * 1000000))\n",
        "\n",
        "print()\n",
        "\n",
        "start = time.time()\n",
        "new_roll_pitch_yaw = rad_to_degree_builtin(roll_pitch_yaw)\n",
        "end = time.time()\n",
        "\n",
        "print(\"Roll (radian): %.4f, Roll (degree): %.4f\" % (roll_pitch_yaw[0], new_roll_pitch_yaw[0]))\n",
        "print(\"Pitch (radian): %.4f, Pitch (degree): %.4f\" % (roll_pitch_yaw[1], new_roll_pitch_yaw[1]))\n",
        "print(\"Yaw (radian): %.4f, Yaw (degree): %.4f\" % (roll_pitch_yaw[2], new_roll_pitch_yaw[2]))\n",
        "print(\"Execution time using np.degrees(): %.4f usec\" % ((end - start) * 1000000))\n",
        "\n",
        "\n",
        "# [더 빠른 방식]\n",
        "# - np.degrees()\n",
        "\n",
        "# [더 빠른 이유]\n",
        "# - np.degrees() 함수는 수식 연산과 달리 내부적으로 C언어로 구현이 되어 있기 때문이다.\n",
        "# - C언어는 Python 같은 인터프리터 언어가 아니라 컴파일 언어이기 때문에 더 빠르게 작동한다."
      ]
    }
  ],
  "metadata": {
    "colab": {
      "provenance": []
    },
    "kernelspec": {
      "display_name": "Python 3",
      "name": "python3"
    },
    "language_info": {
      "name": "python"
    }
  },
  "nbformat": 4,
  "nbformat_minor": 0
}
